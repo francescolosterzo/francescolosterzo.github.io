{
  "nbformat": 4,
  "nbformat_minor": 0,
  "metadata": {
    "colab": {
      "name": "rolling_weighted_average.ipynb",
      "provenance": []
    },
    "kernelspec": {
      "name": "python3",
      "display_name": "Python 3"
    },
    "language_info": {
      "name": "python"
    }
  },
  "cells": [
    {
      "cell_type": "code",
      "execution_count": 1,
      "metadata": {
        "id": "TY0vSmZuka05"
      },
      "outputs": [],
      "source": [
        "import pandas as pd\n",
        "import numpy as np"
      ]
    },
    {
      "cell_type": "code",
      "source": [
        "def weighted_mean(x, w=None):\n",
        "    \"\"\"\n",
        "    compute the weighted mean.\n",
        "    Input parameters:\n",
        "    - x: data to average\n",
        "    - w: weights, optional\n",
        "\n",
        "    Return: the weighted mean of the data x with weights w\n",
        "    \"\"\"\n",
        "    if w is None:\n",
        "        w = np.repeat(1, len(x))\n",
        "    \n",
        "    w_to_use = np.array(w[-len(x):]).astype(float)\n",
        "    nan_idx = np.where(np.isnan(x))[0]\n",
        "    w_to_use[nan_idx] = np.nan\n",
        "    \n",
        "    return np.nansum(x * w_to_use) / np.nansum(w_to_use)"
      ],
      "metadata": {
        "id": "cEo6-jFZklhY"
      },
      "execution_count": 2,
      "outputs": []
    },
    {
      "cell_type": "code",
      "source": [
        "w = [1,1,1]\n",
        "x = np.array([1,2,3])\n",
        "weighted_mean(x,w=None)"
      ],
      "metadata": {
        "colab": {
          "base_uri": "https://localhost:8080/"
        },
        "id": "deXLgVvYxS01",
        "outputId": "8e5208ae-4068-4ab0-95b1-155e0f47c15f"
      },
      "execution_count": 3,
      "outputs": [
        {
          "output_type": "execute_result",
          "data": {
            "text/plain": [
              "2.0"
            ]
          },
          "metadata": {},
          "execution_count": 3
        }
      ]
    },
    {
      "cell_type": "code",
      "source": [
        "data = pd.Series( range(11) )\n",
        "data.loc[6] = np.nan\n",
        "data"
      ],
      "metadata": {
        "colab": {
          "base_uri": "https://localhost:8080/"
        },
        "id": "nrXLkLUgkq8i",
        "outputId": "f96492a5-9683-494f-bff5-decd1ce54fad"
      },
      "execution_count": 6,
      "outputs": [
        {
          "output_type": "execute_result",
          "data": {
            "text/plain": [
              "0      0.0\n",
              "1      1.0\n",
              "2      2.0\n",
              "3      3.0\n",
              "4      4.0\n",
              "5      5.0\n",
              "6      NaN\n",
              "7      7.0\n",
              "8      8.0\n",
              "9      9.0\n",
              "10    10.0\n",
              "dtype: float64"
            ]
          },
          "metadata": {},
          "execution_count": 6
        }
      ]
    },
    {
      "cell_type": "code",
      "source": [
        "data.rolling(3, min_periods=2).mean()"
      ],
      "metadata": {
        "colab": {
          "base_uri": "https://localhost:8080/"
        },
        "id": "ixCKylcskvgB",
        "outputId": "884c8145-ed9e-4e39-b4f0-a3cafe4b7c81"
      },
      "execution_count": 7,
      "outputs": [
        {
          "output_type": "execute_result",
          "data": {
            "text/plain": [
              "0     NaN\n",
              "1     0.5\n",
              "2     1.0\n",
              "3     2.0\n",
              "4     3.0\n",
              "5     4.0\n",
              "6     4.5\n",
              "7     6.0\n",
              "8     7.5\n",
              "9     8.0\n",
              "10    9.0\n",
              "dtype: float64"
            ]
          },
          "metadata": {},
          "execution_count": 7
        }
      ]
    },
    {
      "cell_type": "code",
      "source": [
        "weights = [1,1,1]\n",
        "data.rolling(3, min_periods=3).apply( lambda x: np.average(x, weights=weights, axis=0) )"
      ],
      "metadata": {
        "colab": {
          "base_uri": "https://localhost:8080/"
        },
        "id": "P7P7DGlok24a",
        "outputId": "4ff8315d-8f70-43c8-e3af-6386cb294149"
      },
      "execution_count": 8,
      "outputs": [
        {
          "output_type": "execute_result",
          "data": {
            "text/plain": [
              "0     NaN\n",
              "1     NaN\n",
              "2     1.0\n",
              "3     2.0\n",
              "4     3.0\n",
              "5     4.0\n",
              "6     NaN\n",
              "7     NaN\n",
              "8     NaN\n",
              "9     8.0\n",
              "10    9.0\n",
              "dtype: float64"
            ]
          },
          "metadata": {},
          "execution_count": 8
        }
      ]
    },
    {
      "cell_type": "code",
      "source": [
        "data.rolling(3, min_periods=2).apply( lambda x: weighted_mean(x, w=weights) )"
      ],
      "metadata": {
        "colab": {
          "base_uri": "https://localhost:8080/"
        },
        "id": "92fOCBnUn8hb",
        "outputId": "1ab4de16-ecba-4505-f122-c4512f99e9a8"
      },
      "execution_count": 9,
      "outputs": [
        {
          "output_type": "execute_result",
          "data": {
            "text/plain": [
              "0     NaN\n",
              "1     0.5\n",
              "2     1.0\n",
              "3     2.0\n",
              "4     3.0\n",
              "5     4.0\n",
              "6     4.5\n",
              "7     6.0\n",
              "8     7.5\n",
              "9     8.0\n",
              "10    9.0\n",
              "dtype: float64"
            ]
          },
          "metadata": {},
          "execution_count": 9
        }
      ]
    },
    {
      "cell_type": "code",
      "source": [
        "weights = [0,0,1]\n",
        "data.rolling(3, min_periods=2).apply( lambda x: weighted_mean(x, w=weights) )"
      ],
      "metadata": {
        "colab": {
          "base_uri": "https://localhost:8080/"
        },
        "id": "PG0sF97yUGqs",
        "outputId": "e6b4d525-d01a-4151-e581-5612d3de007b"
      },
      "execution_count": 10,
      "outputs": [
        {
          "output_type": "execute_result",
          "data": {
            "text/plain": [
              "0      NaN\n",
              "1      1.0\n",
              "2      2.0\n",
              "3      3.0\n",
              "4      4.0\n",
              "5      5.0\n",
              "6      NaN\n",
              "7      7.0\n",
              "8      8.0\n",
              "9      9.0\n",
              "10    10.0\n",
              "dtype: float64"
            ]
          },
          "metadata": {},
          "execution_count": 10
        }
      ]
    },
    {
      "cell_type": "code",
      "source": [
        ""
      ],
      "metadata": {
        "id": "CGll4PTEUzXv"
      },
      "execution_count": null,
      "outputs": []
    }
  ]
}